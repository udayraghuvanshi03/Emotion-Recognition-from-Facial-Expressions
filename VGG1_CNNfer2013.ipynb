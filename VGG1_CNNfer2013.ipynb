{
 "cells": [
  {
   "cell_type": "markdown",
   "metadata": {},
   "source": [
    "Proposed CNN network"
   ]
  },
  {
   "cell_type": "code",
   "execution_count": 1,
   "metadata": {
    "id": "2PQ0sn42cQtP"
   },
   "outputs": [],
   "source": [
    "import torch\n",
    "import torchvision\n",
    "import torch.nn as nn\n",
    "import torch.nn.functional as F\n",
    "import torch.optim as optim\n",
    "from torch.utils.data import DataLoader, Dataset\n",
    "import torchvision.datasets as datasets\n",
    "import torchvision.transforms as transforms \n",
    "import matplotlib.pyplot as plt\n",
    "from sklearn.model_selection import train_test_split\n",
    "from PIL import Image"
   ]
  },
  {
   "cell_type": "code",
   "execution_count": 2,
   "metadata": {
    "id": "WNJpBJW3yVbb"
   },
   "outputs": [],
   "source": [
    "import csv\n",
    "import numpy as np"
   ]
  },
  {
   "cell_type": "code",
   "execution_count": 3,
   "metadata": {
    "colab": {
     "base_uri": "https://localhost:8080/"
    },
    "id": "sdsUgJ7zVINK",
    "outputId": "8d0a4bd8-6f94-4b39-add2-a07904ace0ff"
   },
   "outputs": [
    {
     "name": "stdout",
     "output_type": "stream",
     "text": [
      "cuda\n"
     ]
    }
   ],
   "source": [
    "device = torch.device('cuda' if torch.cuda.is_available() else 'cpu')\n",
    "print(device)\n"
   ]
  },
  {
   "cell_type": "markdown",
   "metadata": {},
   "source": [
    "Function to parse the dataset into image and label"
   ]
  },
  {
   "cell_type": "code",
   "execution_count": 4,
   "metadata": {
    "id": "ox4u-F0RDaZR"
   },
   "outputs": [],
   "source": [
    "def load_data(file):\n",
    "  train_image = []\n",
    "  train_label = []\n",
    "  train_categories = {}\n",
    "\n",
    "  with open(file) as train_data:\n",
    "    data = csv.reader(train_data)\n",
    "    next(data)\n",
    "\n",
    "    for line in data:\n",
    "      pixel_str = line[1]\n",
    "      pixel_list = pixel_str.split()\n",
    "      pixel_list = np.array(pixel_list,dtype='uint8')\n",
    "      image= pixel_list.reshape((48,48))\n",
    "      train_image.append(image)\n",
    "\n",
    "      label = line[0]\n",
    "      train_label.append(int(label))\n",
    "\n",
    "      c = 1\n",
    "      if label in train_categories:\n",
    "        c = train_categories[label] + 1\n",
    "      train_categories[label] = c\n",
    "\n",
    "    x = np.array(train_image)\n",
    "    y = np.array(train_label)\n",
    "    #print(np.shape(x))\n",
    "    #print(np.shape(y))\n",
    "    \n",
    "    return x,y\n"
   ]
  },
  {
   "cell_type": "markdown",
   "metadata": {
    "id": "A88Op5FMjOc-"
   },
   "source": [
    "0=Angry, 1=Disgust, 2=Fear, 3=Happy, 4=Sad, 5=Surprise, 6=Neutral"
   ]
  },
  {
   "cell_type": "code",
   "execution_count": 5,
   "metadata": {
    "colab": {
     "base_uri": "https://localhost:8080/",
     "height": 469
    },
    "id": "oLY--3TYhjO-",
    "outputId": "bfc2ff3f-3ef7-4f23-d9ce-5bc40cd4561c"
   },
   "outputs": [
    {
     "data": {
      "text/plain": [
       "Text(0.5, 1.0, '3')"
      ]
     },
     "execution_count": 5,
     "metadata": {},
     "output_type": "execute_result"
    },
    {
     "data": {
      "image/png": "[encoded data removed]",
      "text/plain": [
       "<Figure size 640x480 with 1 Axes>"
      ]
     },
     "metadata": {},
     "output_type": "display_data"
    }
   ],
   "source": [
    "file = 'train.csv'\n",
    "image,label = load_data(file)\n",
    "i = np.random.randint(len(image))\n",
    "plt.imshow(image[i], cmap = 'gray')\n",
    "plt.title(label[i])"
   ]
  },
  {
   "cell_type": "markdown",
   "metadata": {
    "id": "o-3xZmqcQx4f"
   },
   "source": [
    "To make a custom dataset in Pytorch using image and label and applying transformation for data augmentation in addition to convert to Tensor"
   ]
  },
  {
   "cell_type": "code",
   "execution_count": 6,
   "metadata": {
    "id": "Vjs19czlIt9Y"
   },
   "outputs": [],
   "source": [
    "class FERdataset(Dataset):\n",
    "  def __init__(self,image,label,transform):\n",
    "    self.image = image\n",
    "    self.label = label\n",
    "    self.transform = transform\n",
    "\n",
    "  def __len__(self):\n",
    "    return len(self.image)\n",
    "\n",
    "  def __getitem__(self,index):\n",
    "    image = self.image[index].reshape(48,48)\n",
    "    image = Image.fromarray((image))\n",
    "    #if self.transfrom is not None:\n",
    "    image = self.transform(image)\n",
    "    label = self.label[index]\n",
    "    return image, label"
   ]
  },
  {
   "cell_type": "markdown",
   "metadata": {},
   "source": [
    "Function to create the dataloaders"
   ]
  },
  {
   "cell_type": "code",
   "execution_count": 7,
   "metadata": {
    "id": "GfDKMGgojTLk"
   },
   "outputs": [],
   "source": [
    "def dataLoaders(image,label,batch_sz_train, batch_sz_val):\n",
    "\n",
    "  X_train,X_val,Y_train, Y_val = train_test_split(image,label,test_size=0.2,random_state=1)\n",
    "\n",
    "  train_transform = transforms.Compose([transforms.RandomHorizontalFlip(),transforms.RandomRotation(30),\n",
    "                                        transforms.ToTensor(),\n",
    "                                        transforms.Normalize((0.507395516207, ),(0.255128989415, ))])\n",
    "  val_transform = transforms.Compose([transforms.ToTensor(),\n",
    "                                      transforms.Normalize((0.507395516207, ),(0.255128989415, ))])\n",
    "  \n",
    "  train_data = FERdataset(X_train,Y_train,train_transform)\n",
    "  val_data = FERdataset(X_val,Y_val,val_transform)\n",
    "\n",
    "  train_loader = DataLoader(train_data, batch_size=batch_sz_train, shuffle=True)\n",
    "  val_loader = DataLoader(val_data,batch_size=batch_sz_val,shuffle=True)\n",
    "\n",
    "  \n",
    "  return train_loader,val_loader\n"
   ]
  },
  {
   "cell_type": "markdown",
   "metadata": {},
   "source": [
    "Checking the dataloaders on train data"
   ]
  },
  {
   "cell_type": "code",
   "execution_count": 8,
   "metadata": {
    "colab": {
     "base_uri": "https://localhost:8080/"
    },
    "id": "EPsDOeSiV2ZP",
    "outputId": "a6262802-905b-4b5b-d124-67c57fe6d1bd"
   },
   "outputs": [
    {
     "name": "stdout",
     "output_type": "stream",
     "text": [
      "22967\n"
     ]
    }
   ],
   "source": [
    "image,label = load_data(file)\n",
    "tr,val = dataLoaders(image,label,4000,1000)\n",
    "print(len(tr.dataset))"
   ]
  },
  {
   "cell_type": "markdown",
   "metadata": {},
   "source": [
    "Defining the architecture"
   ]
  },
  {
   "cell_type": "code",
   "execution_count": 9,
   "metadata": {
    "id": "aMx7RFQkeBli"
   },
   "outputs": [],
   "source": [
    "class vgg(nn.Module):\n",
    "  def __init__(self):\n",
    "    super(vgg,self).__init__()\n",
    "    self.layer1 = nn.Sequential(nn.Conv2d(1,64,kernel_size=3,stride=1,padding=1),\n",
    "                                nn.BatchNorm2d(64),\n",
    "                                nn.ReLU())\n",
    "    self.layer2 = nn.Sequential(nn.Conv2d(64,64,kernel_size=3,stride=1,padding=1),\n",
    "                                nn.BatchNorm2d(64),\n",
    "                                nn.Dropout2d(p=0.3),\n",
    "                                nn.MaxPool2d(kernel_size=2,stride=2),\n",
    "                                nn.ReLU())\n",
    "    self.layer3 = nn.Sequential(nn.Conv2d(64,128,kernel_size=3,stride=1,padding=1),\n",
    "                                nn.BatchNorm2d(128),\n",
    "                                nn.ReLU())\n",
    "    self.layer4 = nn.Sequential(nn.Conv2d(128,128,kernel_size=3,stride=1,padding=1),\n",
    "                                nn.BatchNorm2d(128),\n",
    "                                nn.Dropout2d(p=0.3),\n",
    "                                nn.MaxPool2d(kernel_size=2,stride=2),\n",
    "                                nn.ReLU())\n",
    "    self.layer5 = nn.Sequential(nn.Conv2d(128,256,kernel_size=3,stride=1,padding=1),\n",
    "                                nn.BatchNorm2d(256),\n",
    "                                nn.ReLU())\n",
    "    self.layer6 = nn.Sequential(nn.Conv2d(256,256,kernel_size=3,stride=1,padding=1),\n",
    "                                nn.BatchNorm2d(256),\n",
    "                                nn.ReLU())\n",
    "    self.layer7 = nn.Sequential(nn.Conv2d(256,256,kernel_size=3,stride=1,padding=1),\n",
    "                                nn.BatchNorm2d(256),\n",
    "                                nn.Dropout2d(p=0.3),\n",
    "                                nn.MaxPool2d(kernel_size=2,stride=2),\n",
    "                                nn.ReLU())\n",
    "    self.layer8 = nn.Sequential(nn.Conv2d(256,512,kernel_size=3,stride=1,padding=1),\n",
    "                                nn.BatchNorm2d(512),\n",
    "                                nn.ReLU())\n",
    "    self.layer9 = nn.Sequential(nn.Conv2d(512,512,kernel_size=3,stride=1,padding=1),\n",
    "                                nn.BatchNorm2d(512),\n",
    "                                nn.ReLU())\n",
    "    self.layer10 = nn.Sequential(nn.Conv2d(512,512,kernel_size=3,stride=1,padding=1),\n",
    "                                nn.BatchNorm2d(512),\n",
    "                                nn.ReLU())\n",
    "    self.layer11 = nn.Sequential(nn.Conv2d(512,512,kernel_size=3,stride=1,padding=1),\n",
    "                                nn.BatchNorm2d(512),\n",
    "                                nn.Dropout2d(p=0.3),\n",
    "                                nn.MaxPool2d(kernel_size=2,stride=2),\n",
    "                                nn.ReLU())\n",
    "    self.fc1 = nn.Sequential(nn.Dropout(p=0.5),\n",
    "                             nn.Linear(3*3*512,4096),\n",
    "                             nn.ReLU())\n",
    "    self.fc2 = nn.Sequential(nn.Dropout(p=0.5),\n",
    "                             nn.Linear(4096,2048),\n",
    "                             nn.ReLU())\n",
    "    self.fc3 = nn.Sequential(nn.Linear(2048,7),\n",
    "                             nn.LogSoftmax(dim=1))\n",
    "\n",
    "  def forward(self,x):\n",
    "    x = self.layer1(x)\n",
    "    x = self.layer2(x)\n",
    "    x = self.layer3(x)\n",
    "    x = self.layer4(x)\n",
    "    x = self.layer5(x)\n",
    "    x = self.layer6(x)\n",
    "    x = self.layer7(x)\n",
    "    x = self.layer8(x)\n",
    "    x = self.layer9(x)\n",
    "    x = self.layer10(x)\n",
    "    x = self.layer11(x)\n",
    "    x = x.view(-1,4608)\n",
    "    x = self.fc1(x)\n",
    "    x = self.fc2(x)\n",
    "    x = self.fc3(x)\n",
    "    return x\n",
    "\n",
    "\n",
    "  def count_parameters(self):\n",
    "    return sum(p.numel() for p in self.parameters() if p.requires_grad)\n"
   ]
  },
  {
   "cell_type": "markdown",
   "metadata": {},
   "source": [
    "Function to train the model"
   ]
  },
  {
   "cell_type": "code",
   "execution_count": 10,
   "metadata": {
    "id": "vB16u5_gYA-I"
   },
   "outputs": [],
   "source": [
    "def train_network(model, train_loader, val_loader, epoch, device):\n",
    "  #optimizer = optim.Adam(model.parameters(),lr=learning_rate,betas=(0.9,0.999),\n",
    "   #                      eps=1e-08, weight_decay=0.001)\n",
    "  optimizer = optim.Adamax(model.parameters(),lr=learning_rate)\n",
    "  train_losses = []\n",
    "  val_losses = []\n",
    "  train_accuracies = []\n",
    "  val_accuracies = []\n",
    "    \n",
    "  for e in range(epoch):\n",
    "    model.train()\n",
    "    tr_loss = 0\n",
    "    tr_correct = 0\n",
    "    val_loss = 0\n",
    "    val_correct = 0\n",
    "\n",
    "    #training the network with train images\n",
    "    for i,(image,label) in enumerate(train_loader):\n",
    "\n",
    "      image = image.to(device)\n",
    "      label = label.to(device)\n",
    "\n",
    "      #Forward pass\n",
    "      output = model(image)\n",
    "      loss = F.nll_loss(output,label)\n",
    "\n",
    "      #Backward pass\n",
    "      optimizer.zero_grad()\n",
    "      loss.backward()\n",
    "      optimizer.step()\n",
    "\n",
    "      tr_loss += loss.item() \n",
    "      _,pred = torch.max(output,1)\n",
    "      tr_correct += torch.sum(pred==label.data)\n",
    "      \n",
    "\n",
    "    #validating the network with validation images\n",
    "    model.eval()\n",
    "    with torch.no_grad():\n",
    "      for i,(image,label) in enumerate(val_loader):\n",
    "        image = image.to(device)\n",
    "        label = label.to(device)\n",
    "        output = model(image)\n",
    "\n",
    "        lossVal = F.nll_loss(output,label)\n",
    "        val_loss += lossVal.item()\n",
    "        _,pred = torch.max(output,1)\n",
    "        val_correct +=torch.sum(pred==label.data)\n",
    "\n",
    "    train_losses.append(tr_loss/len(train_loader))\n",
    "    val_losses.append(val_loss/len(val_loader))\n",
    "    train_accuracy = tr_correct*100.0/len(train_loader.dataset)\n",
    "    val_accuracy = val_correct*100.0/len(val_loader.dataset)\n",
    "    train_accuracies.append(train_accuracy)\n",
    "    val_accuracies.append(val_accuracy)\n",
    "    print(f'Epoch: {e+1}/{epoch}, Training Loss: {train_losses[-1]:.3f}, Training Accuracy: {train_accuracy:.3f}% Val Loss: {val_losses[-1]:.3f}, Val Accuracy: {val_accuracy:.3f}%')\n",
    "\n",
    "  plt.subplot(2,1,1)\n",
    "  plt.plot(train_losses,'r',label='Training loss')\n",
    "  plt.plot(val_losses,'g',label='validation loss')\n",
    "  plt.legend(['Train loss','Validation loss'])\n",
    "  #plt.xlabel('Number of epoch trained')\n",
    "  plt.ylabel('Loss')\n",
    "  plt.subplot(2,1,2)\n",
    "  plt.plot(torch.tensor(train_accuracies).cpu().numpy(),'r',label='Training accuracy')\n",
    "  plt.plot(torch.tensor(val_accuracies).cpu().numpy(),'g',label='validation accuracy')\n",
    "  plt.legend(['Train accuracy','Validation accuracy'])\n",
    "  plt.xlabel('Number of epoch trained')\n",
    "  plt.ylabel('Accuracy')   \n",
    "  plt.show()\n",
    "\n",
    "  torch.save(model.state_dict(),'vggModel1.pth')\n"
   ]
  },
  {
   "cell_type": "markdown",
   "metadata": {
    "id": "r2kgSPQyyhTB"
   },
   "source": [
    "Hyperparameters"
   ]
  },
  {
   "cell_type": "code",
   "execution_count": 11,
   "metadata": {
    "id": "F2G5vx1jybge"
   },
   "outputs": [],
   "source": [
    "num_epoch = 100\n",
    "learning_rate = 0.001\n",
    "train_batchSize = 64\n",
    "val_batchSize = 64"
   ]
  },
  {
   "cell_type": "code",
   "execution_count": 12,
   "metadata": {
    "id": "Cb0MWuFmxNLd"
   },
   "outputs": [
    {
     "name": "stdout",
     "output_type": "stream",
     "text": [
      "Epoch: 1/100, Training Loss: 1.863, Training Accuracy: 24.452% Val Loss: 1.797, Val Accuracy: 25.636%\n",
      "Epoch: 2/100, Training Loss: 1.811, Training Accuracy: 24.648% Val Loss: 1.784, Val Accuracy: 25.636%\n",
      "Epoch: 3/100, Training Loss: 1.800, Training Accuracy: 24.740% Val Loss: 1.777, Val Accuracy: 25.636%\n",
      "Epoch: 4/100, Training Loss: 1.792, Training Accuracy: 25.093% Val Loss: 1.776, Val Accuracy: 25.740%\n",
      "Epoch: 5/100, Training Loss: 1.780, Training Accuracy: 26.168% Val Loss: 1.732, Val Accuracy: 29.293%\n",
      "Epoch: 6/100, Training Loss: 1.716, Training Accuracy: 29.982% Val Loss: 1.560, Val Accuracy: 38.924%\n",
      "Epoch: 7/100, Training Loss: 1.592, Training Accuracy: 37.075% Val Loss: 1.430, Val Accuracy: 43.678%\n",
      "Epoch: 8/100, Training Loss: 1.517, Training Accuracy: 40.811% Val Loss: 1.412, Val Accuracy: 45.925%\n",
      "Epoch: 9/100, Training Loss: 1.456, Training Accuracy: 43.171% Val Loss: 1.322, Val Accuracy: 49.843%\n",
      "Epoch: 10/100, Training Loss: 1.405, Training Accuracy: 45.591% Val Loss: 1.266, Val Accuracy: 49.983%\n",
      "Epoch: 11/100, Training Loss: 1.367, Training Accuracy: 47.203% Val Loss: 1.217, Val Accuracy: 52.856%\n",
      "Epoch: 12/100, Training Loss: 1.333, Training Accuracy: 48.461% Val Loss: 1.208, Val Accuracy: 53.779%\n",
      "Epoch: 13/100, Training Loss: 1.315, Training Accuracy: 49.223% Val Loss: 1.195, Val Accuracy: 54.075%\n",
      "Epoch: 14/100, Training Loss: 1.288, Training Accuracy: 50.272% Val Loss: 1.214, Val Accuracy: 53.553%\n",
      "Epoch: 15/100, Training Loss: 1.271, Training Accuracy: 51.308% Val Loss: 1.171, Val Accuracy: 55.416%\n",
      "Epoch: 16/100, Training Loss: 1.256, Training Accuracy: 52.131% Val Loss: 1.188, Val Accuracy: 54.772%\n",
      "Epoch: 17/100, Training Loss: 1.239, Training Accuracy: 52.993% Val Loss: 1.138, Val Accuracy: 57.053%\n",
      "Epoch: 18/100, Training Loss: 1.223, Training Accuracy: 53.128% Val Loss: 1.118, Val Accuracy: 56.931%\n",
      "Epoch: 19/100, Training Loss: 1.205, Training Accuracy: 53.856% Val Loss: 1.096, Val Accuracy: 58.394%\n",
      "Epoch: 20/100, Training Loss: 1.194, Training Accuracy: 54.400% Val Loss: 1.079, Val Accuracy: 58.830%\n",
      "Epoch: 21/100, Training Loss: 1.179, Training Accuracy: 55.332% Val Loss: 1.052, Val Accuracy: 60.449%\n",
      "Epoch: 22/100, Training Loss: 1.167, Training Accuracy: 55.998% Val Loss: 1.043, Val Accuracy: 60.327%\n",
      "Epoch: 23/100, Training Loss: 1.150, Training Accuracy: 56.137% Val Loss: 1.041, Val Accuracy: 60.972%\n",
      "Epoch: 24/100, Training Loss: 1.141, Training Accuracy: 56.969% Val Loss: 1.052, Val Accuracy: 59.927%\n",
      "Epoch: 25/100, Training Loss: 1.132, Training Accuracy: 57.422% Val Loss: 1.063, Val Accuracy: 59.840%\n",
      "Epoch: 26/100, Training Loss: 1.113, Training Accuracy: 58.096% Val Loss: 1.069, Val Accuracy: 60.188%\n",
      "Epoch: 27/100, Training Loss: 1.106, Training Accuracy: 58.131% Val Loss: 1.015, Val Accuracy: 61.668%\n",
      "Epoch: 28/100, Training Loss: 1.094, Training Accuracy: 58.545% Val Loss: 1.056, Val Accuracy: 60.554%\n",
      "Epoch: 29/100, Training Loss: 1.088, Training Accuracy: 58.998% Val Loss: 1.014, Val Accuracy: 61.651%\n",
      "Epoch: 30/100, Training Loss: 1.077, Training Accuracy: 59.368% Val Loss: 0.992, Val Accuracy: 62.470%\n",
      "Epoch: 31/100, Training Loss: 1.071, Training Accuracy: 59.716% Val Loss: 0.996, Val Accuracy: 62.661%\n",
      "Epoch: 32/100, Training Loss: 1.056, Training Accuracy: 60.517% Val Loss: 1.010, Val Accuracy: 62.173%\n",
      "Epoch: 33/100, Training Loss: 1.053, Training Accuracy: 60.526% Val Loss: 0.985, Val Accuracy: 63.253%\n",
      "Epoch: 34/100, Training Loss: 1.041, Training Accuracy: 60.857% Val Loss: 0.976, Val Accuracy: 63.863%\n",
      "Epoch: 35/100, Training Loss: 1.033, Training Accuracy: 61.057% Val Loss: 0.980, Val Accuracy: 62.835%\n",
      "Epoch: 36/100, Training Loss: 1.025, Training Accuracy: 61.571% Val Loss: 0.987, Val Accuracy: 62.887%\n",
      "Epoch: 37/100, Training Loss: 1.013, Training Accuracy: 62.019% Val Loss: 0.987, Val Accuracy: 63.514%\n",
      "Epoch: 38/100, Training Loss: 1.012, Training Accuracy: 62.346% Val Loss: 0.985, Val Accuracy: 62.887%\n",
      "Epoch: 39/100, Training Loss: 0.999, Training Accuracy: 62.294% Val Loss: 0.978, Val Accuracy: 63.166%\n",
      "Epoch: 40/100, Training Loss: 0.998, Training Accuracy: 62.559% Val Loss: 0.967, Val Accuracy: 63.288%\n",
      "Epoch: 41/100, Training Loss: 0.987, Training Accuracy: 63.178% Val Loss: 0.958, Val Accuracy: 63.793%\n",
      "Epoch: 42/100, Training Loss: 0.985, Training Accuracy: 62.877% Val Loss: 0.987, Val Accuracy: 63.706%\n",
      "Epoch: 43/100, Training Loss: 0.979, Training Accuracy: 63.391% Val Loss: 0.968, Val Accuracy: 63.393%\n",
      "Epoch: 44/100, Training Loss: 0.969, Training Accuracy: 63.434% Val Loss: 0.943, Val Accuracy: 65.082%\n",
      "Epoch: 45/100, Training Loss: 0.975, Training Accuracy: 63.443% Val Loss: 0.951, Val Accuracy: 64.507%\n",
      "Epoch: 46/100, Training Loss: 0.964, Training Accuracy: 63.718% Val Loss: 0.948, Val Accuracy: 65.239%\n",
      "Epoch: 47/100, Training Loss: 0.951, Training Accuracy: 64.122% Val Loss: 0.950, Val Accuracy: 64.925%\n",
      "Epoch: 48/100, Training Loss: 0.943, Training Accuracy: 64.414% Val Loss: 0.949, Val Accuracy: 64.890%\n",
      "Epoch: 49/100, Training Loss: 0.942, Training Accuracy: 64.758% Val Loss: 0.948, Val Accuracy: 65.256%\n",
      "Epoch: 50/100, Training Loss: 0.937, Training Accuracy: 64.754% Val Loss: 0.950, Val Accuracy: 64.542%\n",
      "Epoch: 51/100, Training Loss: 0.927, Training Accuracy: 65.172% Val Loss: 0.934, Val Accuracy: 65.500%\n",
      "Epoch: 52/100, Training Loss: 0.924, Training Accuracy: 65.529% Val Loss: 0.942, Val Accuracy: 65.831%\n",
      "Epoch: 53/100, Training Loss: 0.911, Training Accuracy: 65.816% Val Loss: 0.963, Val Accuracy: 64.194%\n",
      "Epoch: 54/100, Training Loss: 0.910, Training Accuracy: 66.090% Val Loss: 0.957, Val Accuracy: 65.030%\n",
      "Epoch: 55/100, Training Loss: 0.906, Training Accuracy: 65.969% Val Loss: 0.955, Val Accuracy: 64.908%\n",
      "Epoch: 56/100, Training Loss: 0.896, Training Accuracy: 66.517% Val Loss: 0.926, Val Accuracy: 65.378%\n",
      "Epoch: 57/100, Training Loss: 0.894, Training Accuracy: 66.178% Val Loss: 0.929, Val Accuracy: 65.726%\n",
      "Epoch: 58/100, Training Loss: 0.889, Training Accuracy: 66.905% Val Loss: 0.947, Val Accuracy: 65.134%\n",
      "Epoch: 59/100, Training Loss: 0.881, Training Accuracy: 67.009% Val Loss: 0.952, Val Accuracy: 64.803%\n",
      "Epoch: 60/100, Training Loss: 0.881, Training Accuracy: 67.453% Val Loss: 0.922, Val Accuracy: 65.935%\n",
      "Epoch: 61/100, Training Loss: 0.874, Training Accuracy: 67.196% Val Loss: 0.941, Val Accuracy: 65.343%\n",
      "Epoch: 62/100, Training Loss: 0.861, Training Accuracy: 67.832% Val Loss: 0.938, Val Accuracy: 66.440%\n",
      "Epoch: 63/100, Training Loss: 0.855, Training Accuracy: 68.159% Val Loss: 0.910, Val Accuracy: 66.336%\n",
      "Epoch: 64/100, Training Loss: 0.861, Training Accuracy: 67.536% Val Loss: 0.926, Val Accuracy: 65.935%\n",
      "Epoch: 65/100, Training Loss: 0.853, Training Accuracy: 68.032% Val Loss: 0.918, Val Accuracy: 66.388%\n",
      "Epoch: 66/100, Training Loss: 0.837, Training Accuracy: 68.633% Val Loss: 0.941, Val Accuracy: 65.535%\n",
      "Epoch: 67/100, Training Loss: 0.833, Training Accuracy: 68.847% Val Loss: 0.941, Val Accuracy: 66.196%\n",
      "Epoch: 68/100, Training Loss: 0.831, Training Accuracy: 69.095% Val Loss: 0.929, Val Accuracy: 66.284%\n",
      "Epoch: 69/100, Training Loss: 0.828, Training Accuracy: 69.056% Val Loss: 0.939, Val Accuracy: 65.970%\n",
      "Epoch: 70/100, Training Loss: 0.811, Training Accuracy: 69.387% Val Loss: 0.928, Val Accuracy: 66.632%\n",
      "Epoch: 71/100, Training Loss: 0.817, Training Accuracy: 69.652% Val Loss: 0.918, Val Accuracy: 66.022%\n",
      "Epoch: 72/100, Training Loss: 0.809, Training Accuracy: 69.796% Val Loss: 0.926, Val Accuracy: 66.249%\n",
      "Epoch: 73/100, Training Loss: 0.805, Training Accuracy: 70.000% Val Loss: 0.921, Val Accuracy: 66.876%\n",
      "Epoch: 74/100, Training Loss: 0.802, Training Accuracy: 69.639% Val Loss: 0.933, Val Accuracy: 66.684%\n",
      "Epoch: 75/100, Training Loss: 0.793, Training Accuracy: 70.331% Val Loss: 0.914, Val Accuracy: 66.127%\n",
      "Epoch: 76/100, Training Loss: 0.785, Training Accuracy: 70.871% Val Loss: 0.917, Val Accuracy: 66.998%\n",
      "Epoch: 77/100, Training Loss: 0.778, Training Accuracy: 70.836% Val Loss: 0.924, Val Accuracy: 66.614%\n",
      "Epoch: 78/100, Training Loss: 0.779, Training Accuracy: 71.011% Val Loss: 0.942, Val Accuracy: 66.597%\n",
      "Epoch: 79/100, Training Loss: 0.768, Training Accuracy: 71.163% Val Loss: 0.956, Val Accuracy: 65.674%\n",
      "Epoch: 80/100, Training Loss: 0.766, Training Accuracy: 71.642% Val Loss: 0.917, Val Accuracy: 66.736%\n",
      "Epoch: 81/100, Training Loss: 0.764, Training Accuracy: 71.699% Val Loss: 0.926, Val Accuracy: 66.910%\n",
      "Epoch: 82/100, Training Loss: 0.751, Training Accuracy: 71.851% Val Loss: 0.929, Val Accuracy: 67.067%\n",
      "Epoch: 83/100, Training Loss: 0.754, Training Accuracy: 72.099% Val Loss: 0.951, Val Accuracy: 66.371%\n",
      "Epoch: 84/100, Training Loss: 0.746, Training Accuracy: 72.191% Val Loss: 0.937, Val Accuracy: 66.876%\n",
      "Epoch: 85/100, Training Loss: 0.739, Training Accuracy: 72.478% Val Loss: 0.961, Val Accuracy: 65.935%\n",
      "Epoch: 86/100, Training Loss: 0.729, Training Accuracy: 72.835% Val Loss: 0.928, Val Accuracy: 67.346%\n",
      "Epoch: 87/100, Training Loss: 0.723, Training Accuracy: 72.992% Val Loss: 0.953, Val Accuracy: 67.085%\n",
      "Epoch: 88/100, Training Loss: 0.724, Training Accuracy: 73.131% Val Loss: 0.970, Val Accuracy: 66.580%\n",
      "Epoch: 89/100, Training Loss: 0.719, Training Accuracy: 73.188% Val Loss: 0.945, Val Accuracy: 66.719%\n",
      "Epoch: 90/100, Training Loss: 0.713, Training Accuracy: 73.579% Val Loss: 0.934, Val Accuracy: 66.597%\n",
      "Epoch: 91/100, Training Loss: 0.706, Training Accuracy: 73.984% Val Loss: 0.943, Val Accuracy: 67.520%\n",
      "Epoch: 92/100, Training Loss: 0.699, Training Accuracy: 74.224% Val Loss: 0.972, Val Accuracy: 67.050%\n",
      "Epoch: 93/100, Training Loss: 0.695, Training Accuracy: 73.963% Val Loss: 0.960, Val Accuracy: 66.701%\n",
      "Epoch: 94/100, Training Loss: 0.687, Training Accuracy: 74.590% Val Loss: 0.951, Val Accuracy: 67.067%\n",
      "Epoch: 95/100, Training Loss: 0.677, Training Accuracy: 75.103% Val Loss: 0.985, Val Accuracy: 67.294%\n",
      "Epoch: 96/100, Training Loss: 0.680, Training Accuracy: 74.398% Val Loss: 0.955, Val Accuracy: 67.119%\n",
      "Epoch: 97/100, Training Loss: 0.670, Training Accuracy: 74.981% Val Loss: 0.980, Val Accuracy: 65.813%\n",
      "Epoch: 98/100, Training Loss: 0.672, Training Accuracy: 75.221% Val Loss: 0.972, Val Accuracy: 67.102%\n",
      "Epoch: 99/100, Training Loss: 0.654, Training Accuracy: 75.704% Val Loss: 0.985, Val Accuracy: 66.458%\n",
      "Epoch: 100/100, Training Loss: 0.657, Training Accuracy: 75.613% Val Loss: 0.958, Val Accuracy: 67.868%\n"
     ]
    },
    {
     "data": {
      "image/png": "[encoded data removed]",
      "text/plain": [
       "<Figure size 640x480 with 2 Axes>"
      ]
     },
     "metadata": {},
     "output_type": "display_data"
    }
   ],
   "source": [
    "image,label = load_data(file)\n",
    "tr_Dataloader,val_Dataloader = dataLoaders(image,label,train_batchSize,val_batchSize)\n",
    "\n",
    "device = torch.device('cuda' if torch.cuda.is_available() else 'cpu')\n",
    "model = vgg()\n",
    "model.to(device)\n",
    "train_network(model,tr_Dataloader,val_Dataloader,epoch=num_epoch,device=device)"
   ]
  },
  {
   "cell_type": "code",
   "execution_count": 13,
   "metadata": {
    "id": "_xmhySNE9T5u"
   },
   "outputs": [],
   "source": [
    "filename = 'vggModel1.pth'"
   ]
  },
  {
   "cell_type": "code",
   "execution_count": 14,
   "metadata": {
    "colab": {
     "base_uri": "https://localhost:8080/"
    },
    "id": "WPagMLoC9-UV",
    "outputId": "2484da12-1fa7-4962-ba83-0c0b84e4eb10"
   },
   "outputs": [
    {
     "data": {
      "text/plain": [
       "<All keys matched successfully>"
      ]
     },
     "execution_count": 14,
     "metadata": {},
     "output_type": "execute_result"
    }
   ],
   "source": [
    "trained_network = vgg()\n",
    "trained_network.load_state_dict(torch.load(filename))"
   ]
  },
  {
   "cell_type": "markdown",
   "metadata": {},
   "source": [
    "Function to test the trained network"
   ]
  },
  {
   "cell_type": "code",
   "execution_count": 15,
   "metadata": {
    "id": "tUVuZLod-hvG"
   },
   "outputs": [],
   "source": [
    "def test_network(vgg,data_loader):\n",
    "    # Test the model\n",
    "    vgg.eval()\n",
    "\n",
    "    test_loss = 0\n",
    "    correct = 0\n",
    "    losses = []\n",
    "    \n",
    "    trueLabel = []\n",
    "    predLabel = []\n",
    "    \n",
    "    # Preventing gradient calculation\n",
    "    with torch.no_grad():\n",
    "        for image,label in data_loader:\n",
    "            image = image.to(device)\n",
    "            label = label.to(device)\n",
    "            pred = vgg(image)\n",
    "            test_loss += F.nll_loss(pred,label).item()\n",
    "            correct += (pred.argmax(1) == label).type(torch.float).sum().item()\n",
    "            trueLabel +=label.cpu().numpy().tolist()\n",
    "            predLabel +=pred.argmax(1).cpu().numpy().tolist()\n",
    "    test_loss /= len(data_loader)\n",
    "    losses.append(test_loss)\n",
    "    correct /= len(data_loader.dataset)\n",
    "    accuracy = correct*100.\n",
    "    print(f'Test set: Accuracy: {correct*100.:.2f}% Loss: {test_loss:.6f}')\n",
    "    return trueLabel,predLabel"
   ]
  },
  {
   "cell_type": "code",
   "execution_count": 16,
   "metadata": {
    "id": "MAiT6PhgAKPa"
   },
   "outputs": [],
   "source": [
    "def testDataLoaders(image,label,batch_size):\n",
    "\n",
    "  test_transform = transforms.Compose([transforms.ToTensor(),\n",
    "                                      transforms.Normalize((0.507395516207, ),(0.255128989415, ))])\n",
    "  \n",
    "  test_data = FERdataset(image,label,test_transform)\n",
    "\n",
    "  test_loader = DataLoader(test_data,batch_size=batch_size,shuffle=False)\n",
    "\n",
    "  return test_loader"
   ]
  },
  {
   "cell_type": "code",
   "execution_count": 17,
   "metadata": {
    "colab": {
     "base_uri": "https://localhost:8080/"
    },
    "id": "j7kv318f_Acn",
    "outputId": "9ab66b3f-835d-490a-d282-c235e5d13e1b"
   },
   "outputs": [
    {
     "name": "stdout",
     "output_type": "stream",
     "text": [
      "7178\n"
     ]
    }
   ],
   "source": [
    "testFile = 'test.csv'\n",
    "testImage,testLabel = load_data(testFile)\n",
    "test_data_loader = testDataLoaders(testImage,testLabel,100)\n",
    "print(len(test_data_loader.dataset))"
   ]
  },
  {
   "cell_type": "code",
   "execution_count": 18,
   "metadata": {
    "colab": {
     "base_uri": "https://localhost:8080/"
    },
    "id": "qr0uFoiKJRYW",
    "outputId": "76f130c0-336d-4d10-9f18-69d7c69c9499"
   },
   "outputs": [
    {
     "name": "stdout",
     "output_type": "stream",
     "text": [
      "Test set: Accuracy: 66.86% Loss: 0.978408\n"
     ]
    }
   ],
   "source": [
    "device = torch.device('cuda' if torch.cuda.is_available() else 'cpu')\n",
    "trained_network.to(device)\n",
    "trueLabel,predLabel = test_network(vgg=trained_network,data_loader=test_data_loader)"
   ]
  },
  {
   "cell_type": "markdown",
   "metadata": {},
   "source": [
    "Evaluating the performance of CNN"
   ]
  },
  {
   "cell_type": "code",
   "execution_count": 19,
   "metadata": {},
   "outputs": [
    {
     "data": {
      "image/png": "[encoded data removed]",
      "text/plain": [
       "<Figure size 640x480 with 2 Axes>"
      ]
     },
     "metadata": {},
     "output_type": "display_data"
    }
   ],
   "source": [
    "from sklearn.metrics import confusion_matrix\n",
    "cm = confusion_matrix(trueLabel, predLabel)\n",
    "plt.imshow(cm, cmap='Blues', interpolation='nearest')\n",
    "plt.colorbar()\n",
    "plt.title('Confusion Matrix')\n",
    "plt.xlabel('Predicted Label')\n",
    "plt.ylabel('True Label')\n",
    "labels = ['Angry','Disgust','Fear','Happy','Sad','Surprise','Neutral']\n",
    "plt.xticks(range(len(labels)),labels)\n",
    "plt.yticks(range(len(labels)),labels)\n",
    "for i,j in np.ndindex(cm.shape):\n",
    "    plt.text(j, i, format(cm[i, j], 'd'),horizontalalignment='center',color='black')\n",
    "plt.show()"
   ]
  },
  {
   "cell_type": "markdown",
   "metadata": {},
   "source": [
    "Precision,Recall and F1 score"
   ]
  },
  {
   "cell_type": "code",
   "execution_count": 20,
   "metadata": {},
   "outputs": [
    {
     "name": "stdout",
     "output_type": "stream",
     "text": [
      "Precision: [0.61 0.76 0.54 0.87 0.53 0.73 0.61]\n",
      "Recall: [0.58 0.48 0.4  0.88 0.57 0.83 0.66]\n",
      "F1 Score: [0.6  0.59 0.45 0.87 0.55 0.78 0.63]\n"
     ]
    }
   ],
   "source": [
    "TP = np.diag(cm)\n",
    "FP = cm.sum(axis=0) - TP\n",
    "FN = cm.sum(axis=1) - TP\n",
    "precision = TP / (TP + FP)\n",
    "recall = TP / (TP + FN)\n",
    "f1_score = 2 * (precision * recall) / (precision + recall)\n",
    "\n",
    "precision = np.round(precision,2)\n",
    "recall = np.round(recall,2)\n",
    "f1_score = np.round(f1_score,2)\n",
    "\n",
    "print('Precision:', precision)\n",
    "print('Recall:', recall)\n",
    "print('F1 Score:', f1_score)"
   ]
  },
  {
   "cell_type": "code",
   "execution_count": null,
   "metadata": {},
   "outputs": [],
   "source": []
  }
 ],
 "metadata": {
  "colab": {
   "provenance": []
  },
  "gpuClass": "standard",
  "kernelspec": {
   "display_name": "Python 3 (ipykernel)",
   "language": "python",
   "name": "python3"
  },
  "language_info": {
   "codemirror_mode": {
    "name": "ipython",
    "version": 3
   },
   "file_extension": ".py",
   "mimetype": "text/x-python",
   "name": "python",
   "nbconvert_exporter": "python",
   "pygments_lexer": "ipython3",
   "version": "3.10.6"
  }
 },
 "nbformat": 4,
 "nbformat_minor": 4
}
